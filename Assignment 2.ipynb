{
 "cells": [
  {
   "cell_type": "markdown",
   "metadata": {
    "id": "JyNmNmQO54NR"
   },
   "source": [
    "Objective: Dimensionality Reduction using PCA \n",
    "\n",
    "Author: Jason Wong\n",
    "\n",
    "Conduct  a  Principal  Component  Analysis  to  investigate  if  you  can  reduce  the  dimension  of  the \n",
    "chemical data set used for assignment #1 without impacting the model's accuracy.\n"
   ]
  },
  {
   "cell_type": "markdown",
   "metadata": {
    "id": "L0XDKZg1575o"
   },
   "source": [
    "# Write a Python program(s) to create the following based on the steps specified on slide #23: \n",
    "\n",
    "(a)  Covariance matrix \n",
    "\n",
    "(b) Eigenvectors and eigenvalues \n",
    "\n",
    "(c)  Projection matrix \n",
    "\n",
    "(d) Component matrix and coefficients (loadings) of each PC \n",
    "\n",
    "(e)  Explained variance for each PC \n",
    "\n",
    "(f)  Correlation matrix between the data set and PC scores "
   ]
  },
  {
   "cell_type": "code",
   "execution_count": 1,
   "metadata": {
    "id": "4FJQFHFu5rNM"
   },
   "outputs": [
    {
     "data": {
      "text/html": [
       "<div>\n",
       "<style scoped>\n",
       "    .dataframe tbody tr th:only-of-type {\n",
       "        vertical-align: middle;\n",
       "    }\n",
       "\n",
       "    .dataframe tbody tr th {\n",
       "        vertical-align: top;\n",
       "    }\n",
       "\n",
       "    .dataframe thead th {\n",
       "        text-align: right;\n",
       "    }\n",
       "</style>\n",
       "<table border=\"1\" class=\"dataframe\">\n",
       "  <thead>\n",
       "    <tr style=\"text-align: right;\">\n",
       "      <th></th>\n",
       "      <th>T</th>\n",
       "      <th>P</th>\n",
       "      <th>TC</th>\n",
       "      <th>SV</th>\n",
       "      <th>Idx</th>\n",
       "    </tr>\n",
       "  </thead>\n",
       "  <tbody>\n",
       "    <tr>\n",
       "      <th>0</th>\n",
       "      <td>253.15</td>\n",
       "      <td>17.7</td>\n",
       "      <td>0.026827</td>\n",
       "      <td>389.355242</td>\n",
       "      <td>54.102967</td>\n",
       "    </tr>\n",
       "    <tr>\n",
       "      <th>1</th>\n",
       "      <td>253.15</td>\n",
       "      <td>17.7</td>\n",
       "      <td>0.026970</td>\n",
       "      <td>388.007160</td>\n",
       "      <td>54.162740</td>\n",
       "    </tr>\n",
       "    <tr>\n",
       "      <th>2</th>\n",
       "      <td>253.15</td>\n",
       "      <td>17.7</td>\n",
       "      <td>0.026912</td>\n",
       "      <td>385.677846</td>\n",
       "      <td>54.232917</td>\n",
       "    </tr>\n",
       "    <tr>\n",
       "      <th>3</th>\n",
       "      <td>253.15</td>\n",
       "      <td>17.7</td>\n",
       "      <td>0.026815</td>\n",
       "      <td>384.292031</td>\n",
       "      <td>54.304434</td>\n",
       "    </tr>\n",
       "    <tr>\n",
       "      <th>4</th>\n",
       "      <td>253.15</td>\n",
       "      <td>17.7</td>\n",
       "      <td>0.026731</td>\n",
       "      <td>392.060606</td>\n",
       "      <td>54.070973</td>\n",
       "    </tr>\n",
       "    <tr>\n",
       "      <th>...</th>\n",
       "      <td>...</td>\n",
       "      <td>...</td>\n",
       "      <td>...</td>\n",
       "      <td>...</td>\n",
       "      <td>...</td>\n",
       "    </tr>\n",
       "    <tr>\n",
       "      <th>419995</th>\n",
       "      <td>353.15</td>\n",
       "      <td>300.0</td>\n",
       "      <td>0.041824</td>\n",
       "      <td>435.341910</td>\n",
       "      <td>53.755453</td>\n",
       "    </tr>\n",
       "    <tr>\n",
       "      <th>419996</th>\n",
       "      <td>353.15</td>\n",
       "      <td>300.0</td>\n",
       "      <td>0.041518</td>\n",
       "      <td>426.840370</td>\n",
       "      <td>54.234870</td>\n",
       "    </tr>\n",
       "    <tr>\n",
       "      <th>419997</th>\n",
       "      <td>353.15</td>\n",
       "      <td>300.0</td>\n",
       "      <td>0.041744</td>\n",
       "      <td>428.069807</td>\n",
       "      <td>54.106685</td>\n",
       "    </tr>\n",
       "    <tr>\n",
       "      <th>419998</th>\n",
       "      <td>353.15</td>\n",
       "      <td>300.0</td>\n",
       "      <td>0.041607</td>\n",
       "      <td>430.308699</td>\n",
       "      <td>53.970731</td>\n",
       "    </tr>\n",
       "    <tr>\n",
       "      <th>419999</th>\n",
       "      <td>353.15</td>\n",
       "      <td>300.0</td>\n",
       "      <td>0.041669</td>\n",
       "      <td>432.137751</td>\n",
       "      <td>54.077029</td>\n",
       "    </tr>\n",
       "  </tbody>\n",
       "</table>\n",
       "<p>420000 rows × 5 columns</p>\n",
       "</div>"
      ],
      "text/plain": [
       "             T      P        TC          SV        Idx\n",
       "0       253.15   17.7  0.026827  389.355242  54.102967\n",
       "1       253.15   17.7  0.026970  388.007160  54.162740\n",
       "2       253.15   17.7  0.026912  385.677846  54.232917\n",
       "3       253.15   17.7  0.026815  384.292031  54.304434\n",
       "4       253.15   17.7  0.026731  392.060606  54.070973\n",
       "...        ...    ...       ...         ...        ...\n",
       "419995  353.15  300.0  0.041824  435.341910  53.755453\n",
       "419996  353.15  300.0  0.041518  426.840370  54.234870\n",
       "419997  353.15  300.0  0.041744  428.069807  54.106685\n",
       "419998  353.15  300.0  0.041607  430.308699  53.970731\n",
       "419999  353.15  300.0  0.041669  432.137751  54.077029\n",
       "\n",
       "[420000 rows x 5 columns]"
      ]
     },
     "execution_count": 1,
     "metadata": {},
     "output_type": "execute_result"
    }
   ],
   "source": [
    "import pandas as pd\n",
    "data = pd.read_csv(\"https://gist.githubusercontent.com/jaasonw/d00e9782bf6de5ec1b1ec305790eeb88/raw/b8028c4471f547809581c24c31a8f31940c02268/air.csv\")\n",
    "data"
   ]
  },
  {
   "cell_type": "markdown",
   "metadata": {},
   "source": [
    "## Step 1: Standardize the dataset"
   ]
  },
  {
   "cell_type": "code",
   "execution_count": 2,
   "metadata": {
    "id": "2l8-uvds_8jK"
   },
   "outputs": [
    {
     "data": {
      "text/html": [
       "<div>\n",
       "<style scoped>\n",
       "    .dataframe tbody tr th:only-of-type {\n",
       "        vertical-align: middle;\n",
       "    }\n",
       "\n",
       "    .dataframe tbody tr th {\n",
       "        vertical-align: top;\n",
       "    }\n",
       "\n",
       "    .dataframe thead th {\n",
       "        text-align: right;\n",
       "    }\n",
       "</style>\n",
       "<table border=\"1\" class=\"dataframe\">\n",
       "  <thead>\n",
       "    <tr style=\"text-align: right;\">\n",
       "      <th></th>\n",
       "      <th>T</th>\n",
       "      <th>P</th>\n",
       "      <th>TC</th>\n",
       "      <th>SV</th>\n",
       "      <th>Idx</th>\n",
       "    </tr>\n",
       "  </thead>\n",
       "  <tbody>\n",
       "    <tr>\n",
       "      <th>0</th>\n",
       "      <td>-1.46385</td>\n",
       "      <td>-1.085147</td>\n",
       "      <td>-1.932988</td>\n",
       "      <td>-1.148942</td>\n",
       "      <td>0.518523</td>\n",
       "    </tr>\n",
       "    <tr>\n",
       "      <th>1</th>\n",
       "      <td>-1.46385</td>\n",
       "      <td>-1.085147</td>\n",
       "      <td>-1.897869</td>\n",
       "      <td>-1.208770</td>\n",
       "      <td>0.755887</td>\n",
       "    </tr>\n",
       "    <tr>\n",
       "      <th>2</th>\n",
       "      <td>-1.46385</td>\n",
       "      <td>-1.085147</td>\n",
       "      <td>-1.912251</td>\n",
       "      <td>-1.312146</td>\n",
       "      <td>1.034562</td>\n",
       "    </tr>\n",
       "    <tr>\n",
       "      <th>3</th>\n",
       "      <td>-1.46385</td>\n",
       "      <td>-1.085147</td>\n",
       "      <td>-1.935958</td>\n",
       "      <td>-1.373649</td>\n",
       "      <td>1.318563</td>\n",
       "    </tr>\n",
       "    <tr>\n",
       "      <th>4</th>\n",
       "      <td>-1.46385</td>\n",
       "      <td>-1.085147</td>\n",
       "      <td>-1.956603</td>\n",
       "      <td>-1.028877</td>\n",
       "      <td>0.391472</td>\n",
       "    </tr>\n",
       "    <tr>\n",
       "      <th>...</th>\n",
       "      <td>...</td>\n",
       "      <td>...</td>\n",
       "      <td>...</td>\n",
       "      <td>...</td>\n",
       "      <td>...</td>\n",
       "    </tr>\n",
       "    <tr>\n",
       "      <th>419995</th>\n",
       "      <td>1.46385</td>\n",
       "      <td>1.877493</td>\n",
       "      <td>1.751194</td>\n",
       "      <td>0.891960</td>\n",
       "      <td>-0.861483</td>\n",
       "    </tr>\n",
       "    <tr>\n",
       "      <th>419996</th>\n",
       "      <td>1.46385</td>\n",
       "      <td>1.877493</td>\n",
       "      <td>1.675923</td>\n",
       "      <td>0.514659</td>\n",
       "      <td>1.042318</td>\n",
       "    </tr>\n",
       "    <tr>\n",
       "      <th>419997</th>\n",
       "      <td>1.46385</td>\n",
       "      <td>1.877493</td>\n",
       "      <td>1.731570</td>\n",
       "      <td>0.569222</td>\n",
       "      <td>0.533287</td>\n",
       "    </tr>\n",
       "    <tr>\n",
       "      <th>419998</th>\n",
       "      <td>1.46385</td>\n",
       "      <td>1.877493</td>\n",
       "      <td>1.697805</td>\n",
       "      <td>0.668584</td>\n",
       "      <td>-0.006598</td>\n",
       "    </tr>\n",
       "    <tr>\n",
       "      <th>419999</th>\n",
       "      <td>1.46385</td>\n",
       "      <td>1.877493</td>\n",
       "      <td>1.713198</td>\n",
       "      <td>0.749758</td>\n",
       "      <td>0.415521</td>\n",
       "    </tr>\n",
       "  </tbody>\n",
       "</table>\n",
       "<p>420000 rows × 5 columns</p>\n",
       "</div>"
      ],
      "text/plain": [
       "              T         P        TC        SV       Idx\n",
       "0      -1.46385 -1.085147 -1.932988 -1.148942  0.518523\n",
       "1      -1.46385 -1.085147 -1.897869 -1.208770  0.755887\n",
       "2      -1.46385 -1.085147 -1.912251 -1.312146  1.034562\n",
       "3      -1.46385 -1.085147 -1.935958 -1.373649  1.318563\n",
       "4      -1.46385 -1.085147 -1.956603 -1.028877  0.391472\n",
       "...         ...       ...       ...       ...       ...\n",
       "419995  1.46385  1.877493  1.751194  0.891960 -0.861483\n",
       "419996  1.46385  1.877493  1.675923  0.514659  1.042318\n",
       "419997  1.46385  1.877493  1.731570  0.569222  0.533287\n",
       "419998  1.46385  1.877493  1.697805  0.668584 -0.006598\n",
       "419999  1.46385  1.877493  1.713198  0.749758  0.415521\n",
       "\n",
       "[420000 rows x 5 columns]"
      ]
     },
     "execution_count": 2,
     "metadata": {},
     "output_type": "execute_result"
    }
   ],
   "source": [
    "from sklearn.model_selection import train_test_split\n",
    "from sklearn.preprocessing import StandardScaler\n",
    "\n",
    "scaler = StandardScaler()\n",
    "scaler.fit(data)\n",
    "data_std = pd.DataFrame(scaler.transform(data))\n",
    "data_std.columns = data.columns\n",
    "\n",
    "# Split test and training data\n",
    "X_train, X_test, y_train, y_test = train_test_split(data.iloc[:,0:4], data.iloc[:,4], test_size=0.40, random_state=42)\n",
    "\n",
    "data_std"
   ]
  },
  {
   "cell_type": "markdown",
   "metadata": {},
   "source": [
    "## Step 2: Create the covariance matrix"
   ]
  },
  {
   "cell_type": "code",
   "execution_count": 3,
   "metadata": {
    "id": "94E0hlerAe6m"
   },
   "outputs": [],
   "source": [
    "data_cov = X_train.cov()"
   ]
  },
  {
   "cell_type": "markdown",
   "metadata": {},
   "source": [
    "## Step 3: Create Eigenpairs"
   ]
  },
  {
   "cell_type": "code",
   "execution_count": 4,
   "metadata": {
    "colab": {
     "base_uri": "https://localhost:8080/"
    },
    "id": "0fybBiOABPc2",
    "outputId": "abbff090-6714-4d85-d3a5-e6b2b7952862"
   },
   "outputs": [
    {
     "name": "stdout",
     "output_type": "stream",
     "text": [
      "Eigenvalues:\n",
      "[9.123e+03 1.617e+03 9.227e+00 1.095e-06]\n",
      "Eigenvectors:\n",
      "[[ 6.121e-03  8.490e-01  5.284e-01  1.058e-04]\n",
      " [-9.970e-01  4.564e-02 -6.179e-02  1.442e-05]\n",
      " [-1.342e-05  9.258e-05  5.154e-05 -1.000e+00]\n",
      " [ 7.657e-02  5.264e-01 -8.468e-01  4.061e-06]]\n"
     ]
    }
   ],
   "source": [
    "import numpy as np\n",
    "from numpy.linalg import svd\n",
    "from numpy.linalg import eig\n",
    "\n",
    "# Step 2.5 compute the eigenvectors and eigenvalues of the covariance matrix\n",
    "e_vals, e_vecs = eig(data_cov)\n",
    "\n",
    "# Order by largest eigenvalue\n",
    "idx = e_vals.argsort()[::-1]   \n",
    "e_vals = e_vals[idx]\n",
    "e_vecs = e_vecs[:,idx]\n",
    "\n",
    "np.set_printoptions(precision=3)\n",
    "print(\"Eigenvalues:\")\n",
    "print(e_vals)\n",
    "print(\"Eigenvectors:\")\n",
    "print(e_vecs)"
   ]
  },
  {
   "cell_type": "markdown",
   "metadata": {},
   "source": [
    "## Step 4: Create component matrix and loadings"
   ]
  },
  {
   "cell_type": "code",
   "execution_count": 5,
   "metadata": {
    "colab": {
     "base_uri": "https://localhost:8080/"
    },
    "id": "VzJmACr4CP-X",
    "outputId": "ec9d05ea-829e-4ab9-b4c5-00808e72debe"
   },
   "outputs": [
    {
     "data": {
      "text/html": [
       "<div>\n",
       "<style scoped>\n",
       "    .dataframe tbody tr th:only-of-type {\n",
       "        vertical-align: middle;\n",
       "    }\n",
       "\n",
       "    .dataframe tbody tr th {\n",
       "        vertical-align: top;\n",
       "    }\n",
       "\n",
       "    .dataframe thead th {\n",
       "        text-align: right;\n",
       "    }\n",
       "</style>\n",
       "<table border=\"1\" class=\"dataframe\">\n",
       "  <thead>\n",
       "    <tr style=\"text-align: right;\">\n",
       "      <th></th>\n",
       "      <th>PCA1</th>\n",
       "      <th>PCA2</th>\n",
       "      <th>PCA3</th>\n",
       "      <th>PCA4</th>\n",
       "    </tr>\n",
       "  </thead>\n",
       "  <tbody>\n",
       "    <tr>\n",
       "      <th>119749</th>\n",
       "      <td>6.489258</td>\n",
       "      <td>536.569502</td>\n",
       "      <td>-193.885549</td>\n",
       "      <td>-0.000310</td>\n",
       "    </tr>\n",
       "    <tr>\n",
       "      <th>58136</th>\n",
       "      <td>19.603115</td>\n",
       "      <td>541.852816</td>\n",
       "      <td>-202.527218</td>\n",
       "      <td>-0.000741</td>\n",
       "    </tr>\n",
       "    <tr>\n",
       "      <th>113887</th>\n",
       "      <td>7.093904</td>\n",
       "      <td>540.726131</td>\n",
       "      <td>-200.571825</td>\n",
       "      <td>-0.000661</td>\n",
       "    </tr>\n",
       "    <tr>\n",
       "      <th>343026</th>\n",
       "      <td>-164.668356</td>\n",
       "      <td>516.778799</td>\n",
       "      <td>-197.954617</td>\n",
       "      <td>0.001785</td>\n",
       "    </tr>\n",
       "    <tr>\n",
       "      <th>92282</th>\n",
       "      <td>5.121129</td>\n",
       "      <td>494.887397</td>\n",
       "      <td>-202.598212</td>\n",
       "      <td>0.000566</td>\n",
       "    </tr>\n",
       "    <tr>\n",
       "      <th>...</th>\n",
       "      <td>...</td>\n",
       "      <td>...</td>\n",
       "      <td>...</td>\n",
       "      <td>...</td>\n",
       "    </tr>\n",
       "    <tr>\n",
       "      <th>259178</th>\n",
       "      <td>-117.373042</td>\n",
       "      <td>448.503695</td>\n",
       "      <td>-202.352559</td>\n",
       "      <td>0.000404</td>\n",
       "    </tr>\n",
       "    <tr>\n",
       "      <th>365838</th>\n",
       "      <td>-269.377421</td>\n",
       "      <td>422.385363</td>\n",
       "      <td>-196.475688</td>\n",
       "      <td>-0.004981</td>\n",
       "    </tr>\n",
       "    <tr>\n",
       "      <th>131932</th>\n",
       "      <td>-17.179169</td>\n",
       "      <td>447.303669</td>\n",
       "      <td>-201.585066</td>\n",
       "      <td>0.001501</td>\n",
       "    </tr>\n",
       "    <tr>\n",
       "      <th>146867</th>\n",
       "      <td>-16.615990</td>\n",
       "      <td>467.313698</td>\n",
       "      <td>-195.891965</td>\n",
       "      <td>0.001448</td>\n",
       "    </tr>\n",
       "    <tr>\n",
       "      <th>121958</th>\n",
       "      <td>-18.637937</td>\n",
       "      <td>421.136930</td>\n",
       "      <td>-197.374597</td>\n",
       "      <td>0.000811</td>\n",
       "    </tr>\n",
       "  </tbody>\n",
       "</table>\n",
       "<p>252000 rows × 4 columns</p>\n",
       "</div>"
      ],
      "text/plain": [
       "              PCA1        PCA2        PCA3      PCA4\n",
       "119749    6.489258  536.569502 -193.885549 -0.000310\n",
       "58136    19.603115  541.852816 -202.527218 -0.000741\n",
       "113887    7.093904  540.726131 -200.571825 -0.000661\n",
       "343026 -164.668356  516.778799 -197.954617  0.001785\n",
       "92282     5.121129  494.887397 -202.598212  0.000566\n",
       "...            ...         ...         ...       ...\n",
       "259178 -117.373042  448.503695 -202.352559  0.000404\n",
       "365838 -269.377421  422.385363 -196.475688 -0.004981\n",
       "131932  -17.179169  447.303669 -201.585066  0.001501\n",
       "146867  -16.615990  467.313698 -195.891965  0.001448\n",
       "121958  -18.637937  421.136930 -197.374597  0.000811\n",
       "\n",
       "[252000 rows x 4 columns]"
      ]
     },
     "execution_count": 5,
     "metadata": {},
     "output_type": "execute_result"
    }
   ],
   "source": [
    "pca_train = np.matmul(X_train, e_vecs)\n",
    "pca_train.columns = [f\"PCA{n + 1}\" for n in range(4)]\n",
    "pca_train"
   ]
  },
  {
   "cell_type": "code",
   "execution_count": 18,
   "metadata": {},
   "outputs": [
    {
     "data": {
      "text/html": [
       "<div>\n",
       "<style scoped>\n",
       "    .dataframe tbody tr th:only-of-type {\n",
       "        vertical-align: middle;\n",
       "    }\n",
       "\n",
       "    .dataframe tbody tr th {\n",
       "        vertical-align: top;\n",
       "    }\n",
       "\n",
       "    .dataframe thead th {\n",
       "        text-align: right;\n",
       "    }\n",
       "</style>\n",
       "<table border=\"1\" class=\"dataframe\">\n",
       "  <thead>\n",
       "    <tr style=\"text-align: right;\">\n",
       "      <th></th>\n",
       "      <th>PCA1</th>\n",
       "      <th>PCA2</th>\n",
       "      <th>PCA3</th>\n",
       "      <th>PCA4</th>\n",
       "    </tr>\n",
       "  </thead>\n",
       "  <tbody>\n",
       "    <tr>\n",
       "      <th>0</th>\n",
       "      <td>-524.623021</td>\n",
       "      <td>-95.210705</td>\n",
       "      <td>-0.653700</td>\n",
       "      <td>0.000159</td>\n",
       "    </tr>\n",
       "    <tr>\n",
       "      <th>1</th>\n",
       "      <td>-505.467915</td>\n",
       "      <td>186.589114</td>\n",
       "      <td>20.008772</td>\n",
       "      <td>0.005382</td>\n",
       "    </tr>\n",
       "    <tr>\n",
       "      <th>2</th>\n",
       "      <td>-559.154948</td>\n",
       "      <td>-102.811536</td>\n",
       "      <td>-24.443158</td>\n",
       "      <td>0.000881</td>\n",
       "    </tr>\n",
       "    <tr>\n",
       "      <th>3</th>\n",
       "      <td>-522.477307</td>\n",
       "      <td>28.606228</td>\n",
       "      <td>5.022178</td>\n",
       "      <td>-0.000503</td>\n",
       "    </tr>\n",
       "    <tr>\n",
       "      <th>4</th>\n",
       "      <td>-577.422137</td>\n",
       "      <td>-35.279988</td>\n",
       "      <td>-21.013187</td>\n",
       "      <td>0.000635</td>\n",
       "    </tr>\n",
       "    <tr>\n",
       "      <th>...</th>\n",
       "      <td>...</td>\n",
       "      <td>...</td>\n",
       "      <td>...</td>\n",
       "      <td>...</td>\n",
       "    </tr>\n",
       "    <tr>\n",
       "      <th>167995</th>\n",
       "      <td>-502.171399</td>\n",
       "      <td>-90.050022</td>\n",
       "      <td>7.366962</td>\n",
       "      <td>-0.000637</td>\n",
       "    </tr>\n",
       "    <tr>\n",
       "      <th>167996</th>\n",
       "      <td>-530.137719</td>\n",
       "      <td>180.846572</td>\n",
       "      <td>13.645256</td>\n",
       "      <td>-0.001000</td>\n",
       "    </tr>\n",
       "    <tr>\n",
       "      <th>167997</th>\n",
       "      <td>-506.267760</td>\n",
       "      <td>186.379304</td>\n",
       "      <td>20.606315</td>\n",
       "      <td>0.003982</td>\n",
       "    </tr>\n",
       "    <tr>\n",
       "      <th>167998</th>\n",
       "      <td>-506.339266</td>\n",
       "      <td>186.360547</td>\n",
       "      <td>20.659735</td>\n",
       "      <td>0.004636</td>\n",
       "    </tr>\n",
       "    <tr>\n",
       "      <th>167999</th>\n",
       "      <td>-487.732211</td>\n",
       "      <td>87.922460</td>\n",
       "      <td>21.354556</td>\n",
       "      <td>0.000774</td>\n",
       "    </tr>\n",
       "  </tbody>\n",
       "</table>\n",
       "<p>168000 rows × 4 columns</p>\n",
       "</div>"
      ],
      "text/plain": [
       "              PCA1        PCA2       PCA3      PCA4\n",
       "0      -524.623021  -95.210705  -0.653700  0.000159\n",
       "1      -505.467915  186.589114  20.008772  0.005382\n",
       "2      -559.154948 -102.811536 -24.443158  0.000881\n",
       "3      -522.477307   28.606228   5.022178 -0.000503\n",
       "4      -577.422137  -35.279988 -21.013187  0.000635\n",
       "...            ...         ...        ...       ...\n",
       "167995 -502.171399  -90.050022   7.366962 -0.000637\n",
       "167996 -530.137719  180.846572  13.645256 -0.001000\n",
       "167997 -506.267760  186.379304  20.606315  0.003982\n",
       "167998 -506.339266  186.360547  20.659735  0.004636\n",
       "167999 -487.732211   87.922460  21.354556  0.000774\n",
       "\n",
       "[168000 rows x 4 columns]"
      ]
     },
     "execution_count": 18,
     "metadata": {},
     "output_type": "execute_result"
    }
   ],
   "source": [
    "# Use SVD method for test dataset\n",
    "u, s, vh = np.linalg.svd(X_test, full_matrices=False)\n",
    "pca_test = pd.DataFrame(np.matmul(u, np.diag(s)))\n",
    "pca_test.columns = [f\"PCA{n + 1}\" for n in range(4)]\n",
    "pca_test"
   ]
  },
  {
   "cell_type": "markdown",
   "metadata": {},
   "source": [
    "## Step 5: Calculate the explained variances\n",
    "\n",
    "After detemining the Principal Components, to compute the percentage of information accounted for by each component, we divide the eigenvalue of each component by the sum of eigenvalues."
   ]
  },
  {
   "cell_type": "code",
   "execution_count": 46,
   "metadata": {},
   "outputs": [
    {
     "data": {
      "text/plain": [
       "[0.8486981115390654,\n",
       " 0.15044352221652765,\n",
       " 0.0008583661425364786,\n",
       " 1.018705347956594e-10]"
      ]
     },
     "execution_count": 46,
     "metadata": {},
     "output_type": "execute_result"
    }
   ],
   "source": [
    "# explained_variances = [(e_vals[i] , np.sum(x_pca[:,i])) for i, v in enumerate(e_vals)]\n",
    "explained_variances = [e_vals[i] / sum(e_vals) for i, v in enumerate(e_vals)]\n",
    "explained_variances"
   ]
  },
  {
   "cell_type": "markdown",
   "metadata": {},
   "source": [
    "Create a scree plot to display the variances"
   ]
  },
  {
   "cell_type": "code",
   "execution_count": 20,
   "metadata": {},
   "outputs": [
    {
     "data": {
      "image/png": "[encoded data removed]",
      "text/plain": [
       "<Figure size 640x480 with 1 Axes>"
      ]
     },
     "metadata": {},
     "output_type": "display_data"
    }
   ],
   "source": [
    "import matplotlib.pyplot as plt\n",
    "\n",
    "plt.plot(range(0,len(e_vals)), explained_variances, 'o-', linewidth=2, color='blue')\n",
    "plt.title('Scree Plot')\n",
    "plt.xlabel('Principal Component')\n",
    "plt.ylabel('Variance Explained')\n",
    "plt.show()"
   ]
  },
  {
   "cell_type": "markdown",
   "metadata": {},
   "source": [
    "# Determine if a feature or features can be removed from the data set based on the following criteria: \n",
    "(a)  Explained variance >80% \n",
    "\n",
    "(b) Kaiser criteria \n",
    "\n",
    "(c)  Correlation r>0.5 from the correlation matrix \n",
    " \n",
    " \n",
    " \n",
    "Which feature(s) meet all the above criteria?\n",
    "\n",
    "Which features can be removed from the data set? Justify your decision. Are those features \n",
    "removed the same features removed by LASSO regression? If they are different, explain \n",
    "possible reasons."
   ]
  },
  {
   "cell_type": "code",
   "execution_count": 21,
   "metadata": {},
   "outputs": [
    {
     "data": {
      "text/html": [
       "<div>\n",
       "<style scoped>\n",
       "    .dataframe tbody tr th:only-of-type {\n",
       "        vertical-align: middle;\n",
       "    }\n",
       "\n",
       "    .dataframe tbody tr th {\n",
       "        vertical-align: top;\n",
       "    }\n",
       "\n",
       "    .dataframe thead th {\n",
       "        text-align: right;\n",
       "    }\n",
       "</style>\n",
       "<table border=\"1\" class=\"dataframe\">\n",
       "  <thead>\n",
       "    <tr style=\"text-align: right;\">\n",
       "      <th></th>\n",
       "      <th>0</th>\n",
       "    </tr>\n",
       "  </thead>\n",
       "  <tbody>\n",
       "    <tr>\n",
       "      <th>0</th>\n",
       "      <td>9123.220264</td>\n",
       "    </tr>\n",
       "  </tbody>\n",
       "</table>\n",
       "</div>"
      ],
      "text/plain": [
       "             0\n",
       "0  9123.220264"
      ]
     },
     "execution_count": 21,
     "metadata": {},
     "output_type": "execute_result"
    }
   ],
   "source": [
    "# Determine the eiganvalues satisfying the kaiser criterion\n",
    "\n",
    "kaiser = [k for k in e_vals if k >= np.mean(e_vals)]\n",
    "kaiser = pd.DataFrame(kaiser)\n",
    "kaiser"
   ]
  },
  {
   "cell_type": "markdown",
   "metadata": {},
   "source": [
    "Based on the above criteria, we should remove PCA2 - PCA4"
   ]
  },
  {
   "cell_type": "markdown",
   "metadata": {},
   "source": [
    "## Compare with LASSO feature selection"
   ]
  },
  {
   "cell_type": "code",
   "execution_count": 39,
   "metadata": {},
   "outputs": [
    {
     "data": {
      "text/plain": [
       "{'model__alpha': 0.01}"
      ]
     },
     "execution_count": 39,
     "metadata": {},
     "output_type": "execute_result"
    }
   ],
   "source": [
    "from sklearn.model_selection import GridSearchCV\n",
    "from sklearn.pipeline import Pipeline\n",
    "from sklearn.linear_model import Lasso\n",
    "\n",
    "pipeline = Pipeline([ ('scaler',StandardScaler()), ('model',Lasso()) ])\n",
    "search = GridSearchCV(pipeline,\n",
    "                      {'model__alpha':np.arange(0.01,10,0.01)},\n",
    "                      cv = 5, scoring=\"neg_mean_squared_error\",\n",
    "                      # verbose=3\n",
    "                     )\n",
    "search.fit(X_train,y_train)\n",
    "search.best_params_"
   ]
  },
  {
   "cell_type": "code",
   "execution_count": 40,
   "metadata": {},
   "outputs": [
    {
     "data": {
      "text/plain": [
       "array([0.405, 0.126, 0.   , 0.442])"
      ]
     },
     "execution_count": 40,
     "metadata": {},
     "output_type": "execute_result"
    }
   ],
   "source": [
    "coefficients = search.best_estimator_.named_steps['model'].coef_\n",
    "importance = np.abs(coefficients)\n",
    "importance"
   ]
  },
  {
   "cell_type": "code",
   "execution_count": 41,
   "metadata": {},
   "outputs": [
    {
     "data": {
      "text/plain": [
       "array(['T', 'P', 'SV'], dtype=object)"
      ]
     },
     "execution_count": 41,
     "metadata": {},
     "output_type": "execute_result"
    }
   ],
   "source": [
    "np.array(data_std.iloc[:,0:4].columns)[importance > 0]"
   ]
  },
  {
   "cell_type": "markdown",
   "metadata": {},
   "source": [
    "LASSO regression would tell us to remove TC. PCA would tell us that the first principal component accounts for 84% of the data but since PCA projects our dataset into an arbitrary PCA dimension, it is not possible to determine what features are represented by each principal component"
   ]
  },
  {
   "cell_type": "markdown",
   "metadata": {},
   "source": [
    "# Compare the models created by the Least Square method with the new data set with only selected features by PCA and the original data set in terms of training and testing errors. Is there any difference in accuracy? "
   ]
  },
  {
   "cell_type": "code",
   "execution_count": 35,
   "metadata": {},
   "outputs": [],
   "source": [
    "from sklearn.linear_model import LinearRegression\n",
    "from sklearn.model_selection import KFold, cross_val_score, train_test_split\n",
    "from sklearn.metrics import mean_squared_error\n",
    "\n",
    "# k fold cross validation\n",
    "cv = KFold(n_splits=10, shuffle=True, random_state=42)\n",
    "\n",
    "# Perform a linear regression on the original dataset\n",
    "original_data_reg = LinearRegression().fit(X_train, y_train)\n",
    "original_data_score_train = -1 * cross_val_score(original_data_reg, X_train, y_train, cv=cv, scoring='neg_root_mean_squared_error').mean()\n",
    "original_data_score_test = mean_squared_error(y_test, original_data_reg.predict(X_test), squared=False)"
   ]
  },
  {
   "cell_type": "code",
   "execution_count": 66,
   "metadata": {},
   "outputs": [],
   "source": [
    "# Perform a linear regression on the PCA dataset, using only PC1\n",
    "\n",
    "pca_reg = LinearRegression().fit(np.array(pca_train[\"PCA1\"]).reshape(-1, 1), y_train)\n",
    "pca_score_train = -1 * cross_val_score(pca_reg, np.array(pca_train[\"PCA1\"]).reshape(-1, 1), y_train, cv=cv, scoring='neg_root_mean_squared_error').mean()\n",
    "pca_score_test = mean_squared_error(y_test, pca_reg.predict(np.array(pca_test[\"PCA1\"]).reshape(-1, 1)), squared=False)"
   ]
  },
  {
   "cell_type": "code",
   "execution_count": 67,
   "metadata": {},
   "outputs": [
    {
     "data": {
      "text/html": [
       "<div>\n",
       "<style scoped>\n",
       "    .dataframe tbody tr th:only-of-type {\n",
       "        vertical-align: middle;\n",
       "    }\n",
       "\n",
       "    .dataframe tbody tr th {\n",
       "        vertical-align: top;\n",
       "    }\n",
       "\n",
       "    .dataframe thead th {\n",
       "        text-align: right;\n",
       "    }\n",
       "</style>\n",
       "<table border=\"1\" class=\"dataframe\">\n",
       "  <thead>\n",
       "    <tr style=\"text-align: right;\">\n",
       "      <th></th>\n",
       "      <th>RMSE (Training)</th>\n",
       "      <th>RMSE (Test)</th>\n",
       "    </tr>\n",
       "    <tr>\n",
       "      <th></th>\n",
       "      <th></th>\n",
       "      <th></th>\n",
       "    </tr>\n",
       "  </thead>\n",
       "  <tbody>\n",
       "    <tr>\n",
       "      <th>Linear Regression</th>\n",
       "      <td>0.136458</td>\n",
       "      <td>0.136112</td>\n",
       "    </tr>\n",
       "    <tr>\n",
       "      <th>PCA</th>\n",
       "      <td>0.251969</td>\n",
       "      <td>0.251628</td>\n",
       "    </tr>\n",
       "  </tbody>\n",
       "</table>\n",
       "</div>"
      ],
      "text/plain": [
       "                   RMSE (Training)  RMSE (Test)\n",
       "                                               \n",
       "Linear Regression         0.136458     0.136112\n",
       "PCA                       0.251969     0.251628"
      ]
     },
     "execution_count": 67,
     "metadata": {},
     "output_type": "execute_result"
    }
   ],
   "source": [
    "pd.DataFrame([\n",
    "    [\"Linear Regression\", original_data_score_train, original_data_score_test],\n",
    "    [\"PCA\", pca_score_train, pca_score_test],\n",
    "],  columns=['', 'RMSE (Training)', 'RMSE (Test)']).set_index(\"\")"
   ]
  },
  {
   "cell_type": "markdown",
   "metadata": {},
   "source": [
    "Compared to the least squares method, PCA performs slightly worse in this case."
   ]
  }
 ],
 "metadata": {
  "colab": {
   "collapsed_sections": [],
   "provenance": []
  },
  "kernelspec": {
   "display_name": "Python 3 (ipykernel)",
   "language": "python",
   "name": "python3"
  },
  "language_info": {
   "codemirror_mode": {
    "name": "ipython",
    "version": 3
   },
   "file_extension": ".py",
   "mimetype": "text/x-python",
   "name": "python",
   "nbconvert_exporter": "python",
   "pygments_lexer": "ipython3",
   "version": "3.9.7"
  },
  "toc-autonumbering": true,
  "toc-showmarkdowntxt": true
 },
 "nbformat": 4,
 "nbformat_minor": 4
}
